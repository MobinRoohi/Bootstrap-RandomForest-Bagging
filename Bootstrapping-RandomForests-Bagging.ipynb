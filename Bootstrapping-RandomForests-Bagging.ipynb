{
 "cells": [
  {
   "cell_type": "markdown",
   "metadata": {},
   "source": [
    "# Credit Score / Repay Prediction\n",
    "\n",
    "In this project, we will aim to use \"credit scoring sample\" dataset to predict whether a customer will repay their debt within 90 days or not. This is essentially a binary classification task that categorizes customers into two groups: good payers and bad payers. \n",
    "\n",
    "To this end, we will use methods and models like bootstrapping, random forests, bagging and logistic regression."
   ]
  },
  {
   "cell_type": "markdown",
   "metadata": {},
   "source": [
    "## Packages"
   ]
  },
  {
   "cell_type": "code",
   "execution_count": 1,
   "metadata": {},
   "outputs": [],
   "source": [
    "import pandas as pd\n",
    "import numpy as np\n",
    "import matplotlib.pyplot as plt\n",
    "from sklearn.ensemble import RandomForestClassifier\n",
    "from sklearn.ensemble import BaggingClassifier\n",
    "from sklearn.linear_model import LogisticRegression\n",
    "from sklearn.model_selection import GridSearchCV, StratifiedKFold, RandomizedSearchCV\n",
    "from sklearn.metrics import roc_auc_score"
   ]
  },
  {
   "cell_type": "markdown",
   "metadata": {},
   "source": [
    "# Dataset"
   ]
  },
  {
   "cell_type": "code",
   "execution_count": 2,
   "metadata": {},
   "outputs": [],
   "source": [
    "data_loc = './Data/credit_scoring_sample.csv'\n",
    "\n",
    "data = pd.read_csv(data_loc, delimiter=';')"
   ]
  },
  {
   "cell_type": "markdown",
   "metadata": {},
   "source": [
    "## Explanatory Data Analysis"
   ]
  },
  {
   "cell_type": "code",
   "execution_count": 3,
   "metadata": {},
   "outputs": [
    {
     "data": {
      "text/html": [
       "<div>\n",
       "<style scoped>\n",
       "    .dataframe tbody tr th:only-of-type {\n",
       "        vertical-align: middle;\n",
       "    }\n",
       "\n",
       "    .dataframe tbody tr th {\n",
       "        vertical-align: top;\n",
       "    }\n",
       "\n",
       "    .dataframe thead th {\n",
       "        text-align: right;\n",
       "    }\n",
       "</style>\n",
       "<table border=\"1\" class=\"dataframe\">\n",
       "  <thead>\n",
       "    <tr style=\"text-align: right;\">\n",
       "      <th></th>\n",
       "      <th>SeriousDlqin2yrs</th>\n",
       "      <th>age</th>\n",
       "      <th>NumberOfTime30-59DaysPastDueNotWorse</th>\n",
       "      <th>DebtRatio</th>\n",
       "      <th>NumberOfTimes90DaysLate</th>\n",
       "      <th>NumberOfTime60-89DaysPastDueNotWorse</th>\n",
       "      <th>MonthlyIncome</th>\n",
       "      <th>NumberOfDependents</th>\n",
       "    </tr>\n",
       "  </thead>\n",
       "  <tbody>\n",
       "    <tr>\n",
       "      <th>0</th>\n",
       "      <td>0</td>\n",
       "      <td>64</td>\n",
       "      <td>0</td>\n",
       "      <td>0.249908</td>\n",
       "      <td>0</td>\n",
       "      <td>0</td>\n",
       "      <td>8158.0</td>\n",
       "      <td>0.0</td>\n",
       "    </tr>\n",
       "    <tr>\n",
       "      <th>1</th>\n",
       "      <td>0</td>\n",
       "      <td>58</td>\n",
       "      <td>0</td>\n",
       "      <td>3870.000000</td>\n",
       "      <td>0</td>\n",
       "      <td>0</td>\n",
       "      <td>NaN</td>\n",
       "      <td>0.0</td>\n",
       "    </tr>\n",
       "    <tr>\n",
       "      <th>2</th>\n",
       "      <td>0</td>\n",
       "      <td>41</td>\n",
       "      <td>0</td>\n",
       "      <td>0.456127</td>\n",
       "      <td>0</td>\n",
       "      <td>0</td>\n",
       "      <td>6666.0</td>\n",
       "      <td>0.0</td>\n",
       "    </tr>\n",
       "    <tr>\n",
       "      <th>3</th>\n",
       "      <td>0</td>\n",
       "      <td>43</td>\n",
       "      <td>0</td>\n",
       "      <td>0.000190</td>\n",
       "      <td>0</td>\n",
       "      <td>0</td>\n",
       "      <td>10500.0</td>\n",
       "      <td>2.0</td>\n",
       "    </tr>\n",
       "    <tr>\n",
       "      <th>4</th>\n",
       "      <td>1</td>\n",
       "      <td>49</td>\n",
       "      <td>0</td>\n",
       "      <td>0.271820</td>\n",
       "      <td>0</td>\n",
       "      <td>0</td>\n",
       "      <td>400.0</td>\n",
       "      <td>0.0</td>\n",
       "    </tr>\n",
       "  </tbody>\n",
       "</table>\n",
       "</div>"
      ],
      "text/plain": [
       "   SeriousDlqin2yrs  age  NumberOfTime30-59DaysPastDueNotWorse    DebtRatio  \\\n",
       "0                 0   64                                     0     0.249908   \n",
       "1                 0   58                                     0  3870.000000   \n",
       "2                 0   41                                     0     0.456127   \n",
       "3                 0   43                                     0     0.000190   \n",
       "4                 1   49                                     0     0.271820   \n",
       "\n",
       "   NumberOfTimes90DaysLate  NumberOfTime60-89DaysPastDueNotWorse  \\\n",
       "0                        0                                     0   \n",
       "1                        0                                     0   \n",
       "2                        0                                     0   \n",
       "3                        0                                     0   \n",
       "4                        0                                     0   \n",
       "\n",
       "   MonthlyIncome  NumberOfDependents  \n",
       "0         8158.0                 0.0  \n",
       "1            NaN                 0.0  \n",
       "2         6666.0                 0.0  \n",
       "3        10500.0                 2.0  \n",
       "4          400.0                 0.0  "
      ]
     },
     "execution_count": 3,
     "metadata": {},
     "output_type": "execute_result"
    }
   ],
   "source": [
    "data.head()"
   ]
  },
  {
   "cell_type": "code",
   "execution_count": 4,
   "metadata": {},
   "outputs": [
    {
     "data": {
      "text/html": [
       "<div>\n",
       "<style scoped>\n",
       "    .dataframe tbody tr th:only-of-type {\n",
       "        vertical-align: middle;\n",
       "    }\n",
       "\n",
       "    .dataframe tbody tr th {\n",
       "        vertical-align: top;\n",
       "    }\n",
       "\n",
       "    .dataframe thead th {\n",
       "        text-align: right;\n",
       "    }\n",
       "</style>\n",
       "<table border=\"1\" class=\"dataframe\">\n",
       "  <thead>\n",
       "    <tr style=\"text-align: right;\">\n",
       "      <th></th>\n",
       "      <th>SeriousDlqin2yrs</th>\n",
       "      <th>age</th>\n",
       "      <th>NumberOfTime30-59DaysPastDueNotWorse</th>\n",
       "      <th>DebtRatio</th>\n",
       "      <th>NumberOfTimes90DaysLate</th>\n",
       "      <th>NumberOfTime60-89DaysPastDueNotWorse</th>\n",
       "      <th>MonthlyIncome</th>\n",
       "      <th>NumberOfDependents</th>\n",
       "    </tr>\n",
       "  </thead>\n",
       "  <tbody>\n",
       "    <tr>\n",
       "      <th>0</th>\n",
       "      <td>0</td>\n",
       "      <td>64</td>\n",
       "      <td>0</td>\n",
       "      <td>0.249908</td>\n",
       "      <td>0</td>\n",
       "      <td>0</td>\n",
       "      <td>8158.0</td>\n",
       "      <td>0.0</td>\n",
       "    </tr>\n",
       "    <tr>\n",
       "      <th>1</th>\n",
       "      <td>0</td>\n",
       "      <td>58</td>\n",
       "      <td>0</td>\n",
       "      <td>3870.000000</td>\n",
       "      <td>0</td>\n",
       "      <td>0</td>\n",
       "      <td>NaN</td>\n",
       "      <td>0.0</td>\n",
       "    </tr>\n",
       "    <tr>\n",
       "      <th>2</th>\n",
       "      <td>0</td>\n",
       "      <td>41</td>\n",
       "      <td>0</td>\n",
       "      <td>0.456127</td>\n",
       "      <td>0</td>\n",
       "      <td>0</td>\n",
       "      <td>6666.0</td>\n",
       "      <td>0.0</td>\n",
       "    </tr>\n",
       "    <tr>\n",
       "      <th>3</th>\n",
       "      <td>0</td>\n",
       "      <td>43</td>\n",
       "      <td>0</td>\n",
       "      <td>0.000190</td>\n",
       "      <td>0</td>\n",
       "      <td>0</td>\n",
       "      <td>10500.0</td>\n",
       "      <td>2.0</td>\n",
       "    </tr>\n",
       "    <tr>\n",
       "      <th>4</th>\n",
       "      <td>1</td>\n",
       "      <td>49</td>\n",
       "      <td>0</td>\n",
       "      <td>0.271820</td>\n",
       "      <td>0</td>\n",
       "      <td>0</td>\n",
       "      <td>400.0</td>\n",
       "      <td>0.0</td>\n",
       "    </tr>\n",
       "    <tr>\n",
       "      <th>...</th>\n",
       "      <td>...</td>\n",
       "      <td>...</td>\n",
       "      <td>...</td>\n",
       "      <td>...</td>\n",
       "      <td>...</td>\n",
       "      <td>...</td>\n",
       "      <td>...</td>\n",
       "      <td>...</td>\n",
       "    </tr>\n",
       "    <tr>\n",
       "      <th>45058</th>\n",
       "      <td>1</td>\n",
       "      <td>31</td>\n",
       "      <td>0</td>\n",
       "      <td>0.824725</td>\n",
       "      <td>0</td>\n",
       "      <td>0</td>\n",
       "      <td>3000.0</td>\n",
       "      <td>1.0</td>\n",
       "    </tr>\n",
       "    <tr>\n",
       "      <th>45059</th>\n",
       "      <td>0</td>\n",
       "      <td>49</td>\n",
       "      <td>0</td>\n",
       "      <td>6530.000000</td>\n",
       "      <td>0</td>\n",
       "      <td>0</td>\n",
       "      <td>0.0</td>\n",
       "      <td>5.0</td>\n",
       "    </tr>\n",
       "    <tr>\n",
       "      <th>45060</th>\n",
       "      <td>1</td>\n",
       "      <td>38</td>\n",
       "      <td>0</td>\n",
       "      <td>0.475841</td>\n",
       "      <td>0</td>\n",
       "      <td>0</td>\n",
       "      <td>3000.0</td>\n",
       "      <td>2.0</td>\n",
       "    </tr>\n",
       "    <tr>\n",
       "      <th>45061</th>\n",
       "      <td>0</td>\n",
       "      <td>47</td>\n",
       "      <td>1</td>\n",
       "      <td>0.485198</td>\n",
       "      <td>0</td>\n",
       "      <td>0</td>\n",
       "      <td>11720.0</td>\n",
       "      <td>5.0</td>\n",
       "    </tr>\n",
       "    <tr>\n",
       "      <th>45062</th>\n",
       "      <td>1</td>\n",
       "      <td>45</td>\n",
       "      <td>2</td>\n",
       "      <td>0.802982</td>\n",
       "      <td>0</td>\n",
       "      <td>0</td>\n",
       "      <td>9120.0</td>\n",
       "      <td>2.0</td>\n",
       "    </tr>\n",
       "  </tbody>\n",
       "</table>\n",
       "<p>45063 rows × 8 columns</p>\n",
       "</div>"
      ],
      "text/plain": [
       "       SeriousDlqin2yrs  age  NumberOfTime30-59DaysPastDueNotWorse  \\\n",
       "0                     0   64                                     0   \n",
       "1                     0   58                                     0   \n",
       "2                     0   41                                     0   \n",
       "3                     0   43                                     0   \n",
       "4                     1   49                                     0   \n",
       "...                 ...  ...                                   ...   \n",
       "45058                 1   31                                     0   \n",
       "45059                 0   49                                     0   \n",
       "45060                 1   38                                     0   \n",
       "45061                 0   47                                     1   \n",
       "45062                 1   45                                     2   \n",
       "\n",
       "         DebtRatio  NumberOfTimes90DaysLate  \\\n",
       "0         0.249908                        0   \n",
       "1      3870.000000                        0   \n",
       "2         0.456127                        0   \n",
       "3         0.000190                        0   \n",
       "4         0.271820                        0   \n",
       "...            ...                      ...   \n",
       "45058     0.824725                        0   \n",
       "45059  6530.000000                        0   \n",
       "45060     0.475841                        0   \n",
       "45061     0.485198                        0   \n",
       "45062     0.802982                        0   \n",
       "\n",
       "       NumberOfTime60-89DaysPastDueNotWorse  MonthlyIncome  NumberOfDependents  \n",
       "0                                         0         8158.0                 0.0  \n",
       "1                                         0            NaN                 0.0  \n",
       "2                                         0         6666.0                 0.0  \n",
       "3                                         0        10500.0                 2.0  \n",
       "4                                         0          400.0                 0.0  \n",
       "...                                     ...            ...                 ...  \n",
       "45058                                     0         3000.0                 1.0  \n",
       "45059                                     0            0.0                 5.0  \n",
       "45060                                     0         3000.0                 2.0  \n",
       "45061                                     0        11720.0                 5.0  \n",
       "45062                                     0         9120.0                 2.0  \n",
       "\n",
       "[45063 rows x 8 columns]"
      ]
     },
     "execution_count": 4,
     "metadata": {},
     "output_type": "execute_result"
    }
   ],
   "source": [
    "data"
   ]
  },
  {
   "cell_type": "code",
   "execution_count": 5,
   "metadata": {},
   "outputs": [
    {
     "data": {
      "text/plain": [
       "(45063, 8)"
      ]
     },
     "execution_count": 5,
     "metadata": {},
     "output_type": "execute_result"
    }
   ],
   "source": [
    "data.shape"
   ]
  },
  {
   "cell_type": "code",
   "execution_count": 6,
   "metadata": {},
   "outputs": [
    {
     "name": "stdout",
     "output_type": "stream",
     "text": [
      "<class 'pandas.core.frame.DataFrame'>\n",
      "RangeIndex: 45063 entries, 0 to 45062\n",
      "Data columns (total 8 columns):\n",
      " #   Column                                Non-Null Count  Dtype  \n",
      "---  ------                                --------------  -----  \n",
      " 0   SeriousDlqin2yrs                      45063 non-null  int64  \n",
      " 1   age                                   45063 non-null  int64  \n",
      " 2   NumberOfTime30-59DaysPastDueNotWorse  45063 non-null  int64  \n",
      " 3   DebtRatio                             45063 non-null  float64\n",
      " 4   NumberOfTimes90DaysLate               45063 non-null  int64  \n",
      " 5   NumberOfTime60-89DaysPastDueNotWorse  45063 non-null  int64  \n",
      " 6   MonthlyIncome                         36420 non-null  float64\n",
      " 7   NumberOfDependents                    43946 non-null  float64\n",
      "dtypes: float64(3), int64(5)\n",
      "memory usage: 2.8 MB\n"
     ]
    }
   ],
   "source": [
    "data.info()"
   ]
  },
  {
   "cell_type": "markdown",
   "metadata": {},
   "source": [
    "Find the percentage of missing data in each feature."
   ]
  },
  {
   "cell_type": "code",
   "execution_count": 7,
   "metadata": {},
   "outputs": [
    {
     "data": {
      "text/html": [
       "<div>\n",
       "<style scoped>\n",
       "    .dataframe tbody tr th:only-of-type {\n",
       "        vertical-align: middle;\n",
       "    }\n",
       "\n",
       "    .dataframe tbody tr th {\n",
       "        vertical-align: top;\n",
       "    }\n",
       "\n",
       "    .dataframe thead th {\n",
       "        text-align: right;\n",
       "    }\n",
       "</style>\n",
       "<table border=\"1\" class=\"dataframe\">\n",
       "  <thead>\n",
       "    <tr style=\"text-align: right;\">\n",
       "      <th></th>\n",
       "      <th>Feature</th>\n",
       "      <th>Percentage Missing</th>\n",
       "    </tr>\n",
       "  </thead>\n",
       "  <tbody>\n",
       "    <tr>\n",
       "      <th>6</th>\n",
       "      <td>MonthlyIncome</td>\n",
       "      <td>19.179815</td>\n",
       "    </tr>\n",
       "    <tr>\n",
       "      <th>7</th>\n",
       "      <td>NumberOfDependents</td>\n",
       "      <td>2.478752</td>\n",
       "    </tr>\n",
       "    <tr>\n",
       "      <th>0</th>\n",
       "      <td>SeriousDlqin2yrs</td>\n",
       "      <td>0.000000</td>\n",
       "    </tr>\n",
       "    <tr>\n",
       "      <th>1</th>\n",
       "      <td>age</td>\n",
       "      <td>0.000000</td>\n",
       "    </tr>\n",
       "    <tr>\n",
       "      <th>2</th>\n",
       "      <td>NumberOfTime30-59DaysPastDueNotWorse</td>\n",
       "      <td>0.000000</td>\n",
       "    </tr>\n",
       "    <tr>\n",
       "      <th>3</th>\n",
       "      <td>DebtRatio</td>\n",
       "      <td>0.000000</td>\n",
       "    </tr>\n",
       "    <tr>\n",
       "      <th>4</th>\n",
       "      <td>NumberOfTimes90DaysLate</td>\n",
       "      <td>0.000000</td>\n",
       "    </tr>\n",
       "    <tr>\n",
       "      <th>5</th>\n",
       "      <td>NumberOfTime60-89DaysPastDueNotWorse</td>\n",
       "      <td>0.000000</td>\n",
       "    </tr>\n",
       "  </tbody>\n",
       "</table>\n",
       "</div>"
      ],
      "text/plain": [
       "                                Feature  Percentage Missing\n",
       "6                         MonthlyIncome           19.179815\n",
       "7                    NumberOfDependents            2.478752\n",
       "0                      SeriousDlqin2yrs            0.000000\n",
       "1                                   age            0.000000\n",
       "2  NumberOfTime30-59DaysPastDueNotWorse            0.000000\n",
       "3                             DebtRatio            0.000000\n",
       "4               NumberOfTimes90DaysLate            0.000000\n",
       "5  NumberOfTime60-89DaysPastDueNotWorse            0.000000"
      ]
     },
     "execution_count": 7,
     "metadata": {},
     "output_type": "execute_result"
    }
   ],
   "source": [
    "def calculate_missing_data_percentage(data):\n",
    "    # Calculate the percentage of missing data for each feature\n",
    "    missing_data_percentage = data.isnull().mean() * 100\n",
    "    missing_data_df = pd.DataFrame({\n",
    "        'Feature': missing_data_percentage.index,\n",
    "        'Percentage Missing': missing_data_percentage.values\n",
    "    })\n",
    "    \n",
    "    # Sort the DataFrame by percentage missing in descending order\n",
    "    missing_data_df = missing_data_df.sort_values(by='Percentage Missing', ascending=False)\n",
    "    \n",
    "    return missing_data_df\n",
    "\n",
    "missing_data = calculate_missing_data_percentage(data)\n",
    "missing_data"
   ]
  },
  {
   "cell_type": "markdown",
   "metadata": {},
   "source": [
    "Plot the distribution of the target column (SeriousDlqin2yrs)."
   ]
  },
  {
   "cell_type": "code",
   "execution_count": 16,
   "metadata": {},
   "outputs": [
    {
     "data": {
      "image/png": "[encoded data removed]",
      "text/plain": [
       "<Figure size 576x432 with 1 Axes>"
      ]
     },
     "metadata": {
      "needs_background": "light"
     },
     "output_type": "display_data"
    }
   ],
   "source": [
    "plt.figure(figsize=(8, 6))\n",
    "data['SeriousDlqin2yrs'].value_counts().plot(kind='bar', color=['skyblue', 'purple'])\n",
    "plt.title('Distribution of SeriousDlqin2yrs')\n",
    "plt.xlabel('SeriousDlqin2yrs')\n",
    "plt.ylabel('Count')\n",
    "plt.xticks(ticks=[0, 1], labels=['No', 'Yes'], rotation=0)\n",
    "plt.savefig(\"chart1.png\", dpi=400)\n",
    "plt.show()"
   ]
  },
  {
   "cell_type": "markdown",
   "metadata": {},
   "source": [
    "## Preprocessing and Normalization\n",
    "\n",
    "In this step, we replace missing values in each input column with the median of the respective column."
   ]
  },
  {
   "cell_type": "code",
   "execution_count": 9,
   "metadata": {},
   "outputs": [
    {
     "data": {
      "text/html": [
       "<div>\n",
       "<style scoped>\n",
       "    .dataframe tbody tr th:only-of-type {\n",
       "        vertical-align: middle;\n",
       "    }\n",
       "\n",
       "    .dataframe tbody tr th {\n",
       "        vertical-align: top;\n",
       "    }\n",
       "\n",
       "    .dataframe thead th {\n",
       "        text-align: right;\n",
       "    }\n",
       "</style>\n",
       "<table border=\"1\" class=\"dataframe\">\n",
       "  <thead>\n",
       "    <tr style=\"text-align: right;\">\n",
       "      <th></th>\n",
       "      <th>Feature</th>\n",
       "      <th>Percentage Missing</th>\n",
       "    </tr>\n",
       "  </thead>\n",
       "  <tbody>\n",
       "    <tr>\n",
       "      <th>0</th>\n",
       "      <td>SeriousDlqin2yrs</td>\n",
       "      <td>0.0</td>\n",
       "    </tr>\n",
       "    <tr>\n",
       "      <th>1</th>\n",
       "      <td>age</td>\n",
       "      <td>0.0</td>\n",
       "    </tr>\n",
       "    <tr>\n",
       "      <th>2</th>\n",
       "      <td>NumberOfTime30-59DaysPastDueNotWorse</td>\n",
       "      <td>0.0</td>\n",
       "    </tr>\n",
       "    <tr>\n",
       "      <th>3</th>\n",
       "      <td>DebtRatio</td>\n",
       "      <td>0.0</td>\n",
       "    </tr>\n",
       "    <tr>\n",
       "      <th>4</th>\n",
       "      <td>NumberOfTimes90DaysLate</td>\n",
       "      <td>0.0</td>\n",
       "    </tr>\n",
       "    <tr>\n",
       "      <th>5</th>\n",
       "      <td>NumberOfTime60-89DaysPastDueNotWorse</td>\n",
       "      <td>0.0</td>\n",
       "    </tr>\n",
       "    <tr>\n",
       "      <th>6</th>\n",
       "      <td>MonthlyIncome</td>\n",
       "      <td>0.0</td>\n",
       "    </tr>\n",
       "    <tr>\n",
       "      <th>7</th>\n",
       "      <td>NumberOfDependents</td>\n",
       "      <td>0.0</td>\n",
       "    </tr>\n",
       "  </tbody>\n",
       "</table>\n",
       "</div>"
      ],
      "text/plain": [
       "                                Feature  Percentage Missing\n",
       "0                      SeriousDlqin2yrs                 0.0\n",
       "1                                   age                 0.0\n",
       "2  NumberOfTime30-59DaysPastDueNotWorse                 0.0\n",
       "3                             DebtRatio                 0.0\n",
       "4               NumberOfTimes90DaysLate                 0.0\n",
       "5  NumberOfTime60-89DaysPastDueNotWorse                 0.0\n",
       "6                         MonthlyIncome                 0.0\n",
       "7                    NumberOfDependents                 0.0"
      ]
     },
     "execution_count": 9,
     "metadata": {},
     "output_type": "execute_result"
    }
   ],
   "source": [
    "data.fillna(data.median(), inplace=True)\n",
    "\n",
    "# Use the previous function to make sure no data is missing now\n",
    "missing_data = calculate_missing_data_percentage(data)\n",
    "missing_data"
   ]
  },
  {
   "cell_type": "markdown",
   "metadata": {},
   "source": [
    "## I. Bootstrapping"
   ]
  },
  {
   "cell_type": "markdown",
   "metadata": {},
   "source": [
    "1. Estimate the interval in which the mean age of bad payers (customers who did not repay their debt within 90 days) falls, with a 90% confidence level."
   ]
  },
  {
   "cell_type": "code",
   "execution_count": 10,
   "metadata": {},
   "outputs": [
    {
     "data": {
      "text/plain": [
       "(45.714437462597246, 46.14033512866547)"
      ]
     },
     "execution_count": 10,
     "metadata": {},
     "output_type": "execute_result"
    }
   ],
   "source": [
    "# Select age of the bad payers from the dataset\n",
    "bad_payers_age = data[data['SeriousDlqin2yrs'] == 1]['age']\n",
    "\n",
    "# Bootstrap sampling\n",
    "np.random.seed(0)\n",
    "bootstrap_iterations = 20000\n",
    "bootstrap_size = int(len(bad_payers_age))\n",
    "means = []\n",
    "\n",
    "for _ in range(bootstrap_iterations):\n",
    "    sample = np.random.choice(bad_payers_age, size=bootstrap_size, replace=True)\n",
    "    means.append(np.mean(sample))\n",
    "\n",
    "# Calculate the 90% confidence interval\n",
    "alpha = 0.10\n",
    "lower_bound = np.percentile(means, alpha/2 * 100)\n",
    "upper_bound = np.percentile(means, (1 - alpha/2) * 100)\n",
    "\n",
    "(lower_bound, upper_bound)"
   ]
  },
  {
   "cell_type": "markdown",
   "metadata": {},
   "source": [
    "The resulting confidence interval is \n",
    "$$(45.714437462597246, 46.14033512866547)$$"
   ]
  },
  {
   "cell_type": "markdown",
   "metadata": {},
   "source": [
    "## II. Random Forest\n",
    "\n",
    "2. Here, we find the optimal Random Forest classifier with 100 trees using the following given set of parameters. \n",
    "    ```\n",
    "    parameters = {'max_features': [1, 2, 4], 'min_samples_leaf': [3, 5, 7, 9], 'max_depth': [5,10,15]}\n",
    "    ```\n",
    "    We make use of the stratified 5-fold validation and grid search to find the optimal values for each parameter. Finally, we report the ROC AUC score for the optimal classifier."
   ]
  },
  {
   "cell_type": "code",
   "execution_count": 11,
   "metadata": {},
   "outputs": [
    {
     "name": "stdout",
     "output_type": "stream",
     "text": [
      "Best Parameters: {'max_depth': 10, 'max_features': 1, 'min_samples_leaf': 9}\n",
      "Best ROC AUC Score: 0.8354378802831613\n"
     ]
    }
   ],
   "source": [
    "# Define the given parameteres\n",
    "parameters = {\n",
    "    'max_features': [1, 2, 4],\n",
    "    'min_samples_leaf': [3, 5, 7, 9],\n",
    "    'max_depth': [5, 10, 15]\n",
    "}\n",
    "\n",
    "# Create random forest classifier\n",
    "rf = RandomForestClassifier(n_estimators=100, class_weight='balanced', random_state=0)\n",
    "\n",
    "# Set up stratified 5-fold validation\n",
    "cv = StratifiedKFold(n_splits=5, shuffle=True, random_state=0)\n",
    "\n",
    "# Grid search\n",
    "grid_search = GridSearchCV(estimator=rf, param_grid=parameters, cv=cv, scoring='roc_auc', n_jobs=-1)\n",
    "grid_search.fit(data.drop(columns=['SeriousDlqin2yrs']), data['SeriousDlqin2yrs'])\n",
    "\n",
    "# Obtain the optimal parameters and AUC score\n",
    "best_parameters = grid_search.best_params_\n",
    "best_AUC_score = grid_search.best_score_\n",
    "\n",
    "print(f\"Best Parameters: {best_parameters}\")\n",
    "print(f\"Best ROC AUC Score: {best_AUC_score}\")"
   ]
  },
  {
   "cell_type": "markdown",
   "metadata": {},
   "source": [
    "The best set of parameters are:\n",
    "```\n",
    "{'max_depth': 10, 'max_features': 1, 'min_samples_leaf': 9}\n",
    "```\n",
    "and the best AUC score is $0.8354378802831613$"
   ]
  },
  {
   "cell_type": "markdown",
   "metadata": {},
   "source": [
    "3. To find which feature has the weakest impact on the Random Forest model, we can look at the feature importances. Feature importances in a Random Forest model show how much each of the features contribute to the model's predictions. The feature with the lowest importance score will be our answer.\n",
    "To this end we can find the importance scores and even plot them to find the lowest score.\n",
    "\n"
   ]
  },
  {
   "cell_type": "code",
   "execution_count": 12,
   "metadata": {},
   "outputs": [
    {
     "name": "stdout",
     "output_type": "stream",
     "text": [
      "Weakest Feature: NumberOfDependents, Importance: 0.01902918451822596\n"
     ]
    },
    {
     "data": {
      "image/png": "[encoded data removed]",
      "text/plain": [
       "<Figure size 864x432 with 1 Axes>"
      ]
     },
     "metadata": {
      "needs_background": "light"
     },
     "output_type": "display_data"
    }
   ],
   "source": [
    "# Create and train the Random Forest model with the best parameters from the earlier grid search\n",
    "rf_best = RandomForestClassifier(\n",
    "    n_estimators=100,\n",
    "    class_weight='balanced',\n",
    "    max_features=best_parameters['max_features'],\n",
    "    min_samples_leaf=best_parameters['min_samples_leaf'],\n",
    "    max_depth=best_parameters['max_depth'],\n",
    "    random_state=0\n",
    ")\n",
    "\n",
    "# Fit the model\n",
    "rf_best.fit(data.drop(columns=['SeriousDlqin2yrs']), data['SeriousDlqin2yrs'])\n",
    "\n",
    "# Find feature importances\n",
    "importances = rf_best.feature_importances_\n",
    "feature_names = data.drop(columns=['SeriousDlqin2yrs']).columns\n",
    "feature_importance = sorted(zip(feature_names, importances), key=lambda x: x[1])\n",
    "\n",
    "# Show the feature with the least feature importance or impact\n",
    "weakest_feature = feature_importance[0]\n",
    "print(f\"Weakest Feature: {weakest_feature[0]}, Importance: {weakest_feature[1]}\")\n",
    "\n",
    "# Plot feature importances\n",
    "plt.figure(figsize=(12, 6))\n",
    "plt.barh([x[0] for x in feature_importance], [x[1] for x in feature_importance], color='skyblue')\n",
    "plt.xlabel('Feature Importance')\n",
    "plt.title('Feature Importances in the Random Forest Model')\n",
    "plt.tight_layout()\n",
    "plt.savefig(\"chart2.png\", dpi=400)\n",
    "plt.show()"
   ]
  },
  {
   "cell_type": "markdown",
   "metadata": {},
   "source": [
    "As we can see, the feature with the weakest impact is \"NumberOfDependents\" with importance of about $0.019$."
   ]
  },
  {
   "cell_type": "markdown",
   "metadata": {},
   "source": [
    "## III. Bagging Classifier"
   ]
  },
  {
   "cell_type": "markdown",
   "metadata": {},
   "source": [
    "4. Now we find the optimal parameters for a Bagging classifier using randomized search and stratified 5-fold validation. The options are:\n",
    "    ```\n",
    "    parameters = {'max_features': [2, 3, 4], 'max_samples': [0.5, 0.7, 0.9],\n",
    "    'estimator__C': [0.0001, 0.001, 0.01, 1, 10, 100]}\n",
    "    ```\n",
    "    We will use Logistic Regression as the base classifier."
   ]
  },
  {
   "cell_type": "code",
   "execution_count": 13,
   "metadata": {},
   "outputs": [
    {
     "name": "stdout",
     "output_type": "stream",
     "text": [
      "Best Parameters: {'max_samples': 0.5, 'max_features': 2, 'estimator__C': 100}\n",
      "Best ROC AUC Score: 0.7611354363025876\n"
     ]
    }
   ],
   "source": [
    "# Given parameters from the problem\n",
    "parameters = {\n",
    "    'max_features': [2, 3, 4],\n",
    "    'max_samples': [0.5, 0.7, 0.9],\n",
    "    'estimator__C': [0.0001, 0.001, 0.01, 1, 10, 100]\n",
    "}\n",
    "\n",
    "# Logistic regression used as the base estimator\n",
    "base_estimator = LogisticRegression(max_iter=1000, solver='liblinear')\n",
    "\n",
    "# Bagging classifier\n",
    "bagging = BaggingClassifier(estimator=base_estimator, n_estimators=100, random_state=0)\n",
    "\n",
    "# Stratified 5-fold validation\n",
    "cv = StratifiedKFold(n_splits=5, shuffle=True, random_state=0)\n",
    "\n",
    "# Randomized search to find optimal parameters\n",
    "random_search = RandomizedSearchCV(estimator=bagging, param_distributions=parameters, n_iter=20, cv=cv, scoring='roc_auc', n_jobs=-1, random_state=0)\n",
    "random_search.fit(data.drop(columns=['SeriousDlqin2yrs']), data['SeriousDlqin2yrs'])\n",
    "\n",
    "# Get the best parameters and the corresponding ROC AUC score\n",
    "best_parameters2 = random_search.best_params_\n",
    "best_AUC_score2 = random_search.best_score_\n",
    "\n",
    "print(f\"Best Parameters: {best_parameters2}\")\n",
    "print(f\"Best ROC AUC Score: {best_AUC_score2}\")"
   ]
  },
  {
   "cell_type": "markdown",
   "metadata": {},
   "source": [
    "Now let us justify why such a set of parameters might be best.\n",
    "\n",
    "+ **max_samples = 0.5**:\n",
    "    This value means that each base estimator (Logistic Regression) in the Bagging is trained on a random subset making up 50% of the training data.\n",
    "\n",
    "    Using only half of the data for each base estimator introduces diversity among the models. This diversity helps to reduce overfitting, as each base estimator can capture different regions of the feature space. This is an advatage of ensemble methods. This is one justification for why this value exactly.\n",
    "\n",
    "+ **max_features = 2**:\n",
    "    This value means that each base estimator is trained using a random subset of 2 features. Limiting to smaller values of max_feature allows for promotion of more diversity and again less overfitting.\n",
    "\n",
    "+ **estimator__C = 100**:\n",
    "    This value sets the regularization parameter C for the Logistic Regression base estimator to 100, causing weaker regularization.\n",
    "\n",
    "    While weak regularization increases the risk of overfitting, in the context of Bagging, it can be way to balance the tradeoff between bias and variance. Also fitting more closely to the training set will lead to smaller training error. This also allows for more flexibility in the logistic regression models.\n"
   ]
  },
  {
   "cell_type": "markdown",
   "metadata": {},
   "source": []
  }
 ],
 "metadata": {
  "kernelspec": {
   "display_name": "Python 3",
   "language": "python",
   "name": "python3"
  },
  "language_info": {
   "codemirror_mode": {
    "name": "ipython",
    "version": 3
   },
   "file_extension": ".py",
   "mimetype": "text/x-python",
   "name": "python",
   "nbconvert_exporter": "python",
   "pygments_lexer": "ipython3",
   "version": "3.10.1"
  }
 },
 "nbformat": 4,
 "nbformat_minor": 2
}
